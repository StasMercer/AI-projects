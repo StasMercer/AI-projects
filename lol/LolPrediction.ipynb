{
  "nbformat": 4,
  "nbformat_minor": 0,
  "metadata": {
    "colab": {
      "name": "LolPrediction.ipynb",
      "provenance": [],
      "collapsed_sections": []
    },
    "kernelspec": {
      "name": "python3",
      "display_name": "Python 3"
    }
  },
  "cells": [
    {
      "cell_type": "code",
      "metadata": {
        "id": "XTPmCdPC3k0N",
        "colab_type": "code",
        "colab": {}
      },
      "source": [
        "import tensorflow as tf\n",
        "import numpy as np\n",
        "from tensorflow import keras\n",
        "import pandas as pd\n",
        "from sklearn.model_selection import train_test_split\n",
        "import os\n",
        "from sklearn.preprocessing import MinMaxScaler\n",
        "import seaborn as sns\n",
        "import matplotlib.pyplot as plt\n",
        "from sklearn.externals import joblib\n",
        "\n",
        "data = pd.read_csv('/content/drive/My Drive/Projects/Lol/high_diamond_ranked_10min.csv')\n",
        "\n",
        "data = data[['blueKills', 'blueDeaths', 'blueTotalGold', 'blueAssists','blueTotalMinionsKilled', 'redTotalGold','redTotalMinionsKilled', 'redAssists', 'blueWins']]\n",
        "\n",
        " \n",
        "X = data.drop(['blueWins'], axis=1)\n",
        " \n",
        "\n",
        "\n"
      ],
      "execution_count": null,
      "outputs": []
    },
    {
      "cell_type": "code",
      "metadata": {
        "id": "Jc4BRMHiuR1v",
        "colab_type": "code",
        "colab": {}
      },
      "source": [
        "g = sns.PairGrid(data, hue='blueWins')\n",
        "g = g.map(plt.scatter)"
      ],
      "execution_count": null,
      "outputs": []
    },
    {
      "cell_type": "code",
      "metadata": {
        "id": "nLvPd_RyspIe",
        "colab_type": "code",
        "colab": {}
      },
      "source": [
        "sns.catplot(data=data, x='blueKills', y='blueDeath', hue='blueWins')"
      ],
      "execution_count": null,
      "outputs": []
    },
    {
      "cell_type": "code",
      "metadata": {
        "id": "LnhB-zErIt3V",
        "colab_type": "code",
        "colab": {}
      },
      "source": [
        "scaler = MinMaxScaler()\n",
        "normalized_df=scaler.fit_transform(X)\n",
        "\n",
        "# save the scaler for future use\n",
        "joblib.dump(scaler, 'scaler1')\n",
        "\n",
        "X = normalized_df\n",
        "Y = data['blueWins']\n",
        "\n",
        "X_train, X_test, Y_train, Y_test = train_test_split(X, Y, test_size=0.3, random_state=0)\n",
        "model = keras.Sequential([\n",
        "    keras.layers.Flatten(input_shape=(8,)),\n",
        "    keras.layers.Dense(5, activation=tf.nn.relu),\n",
        "    keras.layers.Dense(1, activation=tf.nn.sigmoid),\n",
        "])\n",
        "\n",
        "model.compile(optimizer='adam',\n",
        "              loss='binary_crossentropy',\n",
        "              metrics=['accuracy'])\n",
        "\n"
      ],
      "execution_count": null,
      "outputs": []
    },
    {
      "cell_type": "code",
      "metadata": {
        "id": "8jTxuN8MXU1G",
        "colab_type": "code",
        "colab": {}
      },
      "source": [
        "model.fit(X_train, Y_train, epochs=15, batch_size=8)\n",
        "test_loss, test_acc = model.evaluate(X_test, Y_test)"
      ],
      "execution_count": null,
      "outputs": []
    },
    {
      "cell_type": "code",
      "metadata": {
        "id": "Xsxw5WdOf4h9",
        "colab_type": "code",
        "colab": {}
      },
      "source": [
        "# save trained model\n",
        "model.save('/content/drive/My Drive/Projects/model1')"
      ],
      "execution_count": null,
      "outputs": []
    },
    {
      "cell_type": "code",
      "metadata": {
        "id": "FKDWeYIugXjC",
        "colab_type": "code",
        "colab": {}
      },
      "source": [
        "\n",
        "test_loss, test_acc = loaded.evaluate(X_test, Y_test)"
      ],
      "execution_count": null,
      "outputs": []
    },
    {
      "cell_type": "code",
      "metadata": {
        "id": "2dvkJEYu-Wy7",
        "colab_type": "code",
        "colab": {
          "base_uri": "https://localhost:8080/",
          "height": 34
        },
        "outputId": "d372c23d-ce93-4f40-db95-1950056761cd"
      },
      "source": [
        "#load model and call predict on topredict dataframe\n",
        "loaded = keras.models.load_model('/content/drive/My Drive/Projects/model1')\n",
        "\n",
        "topredict = pd.DataFrame(data={'blueKills': [7],\n",
        "                               'blueDeaths': [5],\n",
        "                               'blueTotalGold': [16100],\n",
        "                               'blueAssists': [6],\n",
        "                               'blueTotalMinionsKilled':[250],\n",
        "                               'redTotalGold':[14300],\n",
        "                               'redTotalMinionsKilled':[223],\n",
        "                               'redAssists':[5]})\n",
        "scaler = joblib.load('scaler1') \n",
        "topredict = scaler.transform(topredict)\n",
        " \n",
        "loaded.predict(x=topredict)"
      ],
      "execution_count": null,
      "outputs": [
        {
          "output_type": "execute_result",
          "data": {
            "text/plain": [
              "array([[0.77242297]], dtype=float32)"
            ]
          },
          "metadata": {
            "tags": []
          },
          "execution_count": 5
        }
      ]
    }
  ]
}